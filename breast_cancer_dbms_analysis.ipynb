{
 "cells": [
  {
   "cell_type": "code",
   "execution_count": 30,
   "id": "69d99220-c54a-41ab-aaf9-db45eab455ec",
   "metadata": {},
   "outputs": [],
   "source": [
    "import mysql.connector\n"
   ]
  },
  {
   "cell_type": "code",
   "execution_count": 31,
   "id": "3175a2bc-2ab1-4b87-a604-960b659a5ca7",
   "metadata": {},
   "outputs": [],
   "source": [
    "connection = mysql.connector.connect(\n",
    "    host=\"127.0.0.1\",  \n",
    "    user=\"lpragada\",  \n",
    "    password=\"assailed loose tycoon possessor\",\n",
    "    database=\"lpragada_db\"  \n",
    ")\n",
    "\n",
    "cursor = connection.cursor()"
   ]
  },
  {
   "cell_type": "code",
   "execution_count": 4,
   "id": "048fc6f7-2bed-4309-ba74-7e6b0ea61b85",
   "metadata": {},
   "outputs": [],
   "source": [
    "cursor.execute(\"\"\"\n",
    "CREATE TABLE IF NOT EXISTS Patients (\n",
    "    Patient_ID VARCHAR(20) PRIMARY KEY,\n",
    "    Age INT,\n",
    "    Gender ENUM('MALE', 'FEMALE'),\n",
    "    Patient_Status ENUM('Alive', 'Dead')\n",
    ");\n",
    "\n",
    "\"\"\")"
   ]
  },
  {
   "cell_type": "code",
   "execution_count": 5,
   "id": "410aed16-abea-4485-b511-e6b49c9bb27c",
   "metadata": {},
   "outputs": [],
   "source": [
    "cursor.execute(\"\"\"\n",
    "CREATE TABLE IF NOT EXISTS Diagnoses (\n",
    "    Diagnosis_ID VARCHAR(10) PRIMARY KEY,\n",
    "    Tumour_Stage VARCHAR(5),\n",
    "    Histology VARCHAR(50),\n",
    "    Patient_ID VARCHAR(20),\n",
    "    FOREIGN KEY (Patient_ID) REFERENCES Patients(Patient_ID)\n",
    ");\n",
    "\"\"\")"
   ]
  },
  {
   "cell_type": "code",
   "execution_count": 6,
   "id": "477e955e-1c85-440f-b666-cd057731c89a",
   "metadata": {},
   "outputs": [],
   "source": [
    "cursor.execute(\"\"\"\n",
    "CREATE TABLE IF NOT EXISTS Visits (\n",
    "    Visit_ID VARCHAR(20) PRIMARY KEY,\n",
    "    Date_of_Surgery DATE,\n",
    "    Date_of_Last_Visit DATE,\n",
    "    Patient_ID VARCHAR(20),\n",
    "    FOREIGN KEY (Patient_ID) REFERENCES Patients(Patient_ID)\n",
    ");\n",
    "\"\"\")"
   ]
  },
  {
   "cell_type": "code",
   "execution_count": 7,
   "id": "2eaefce2-e48b-4132-b006-92388f5889c8",
   "metadata": {},
   "outputs": [],
   "source": [
    "cursor.execute(\"\"\"\n",
    "CREATE TABLE IF NOT EXISTS Proteins (\n",
    "    ProteinID VARCHAR(20) PRIMARY KEY,\n",
    "    Protein1 FLOAT,\n",
    "    Protein2 FLOAT,\n",
    "    Protein3 FLOAT,\n",
    "    Protein4 FLOAT,\n",
    "    Diagnosis_ID VARCHAR(10),\n",
    "    FOREIGN KEY (Diagnosis_ID) REFERENCES Diagnoses(Diagnosis_ID)\n",
    ");\n",
    "\"\"\")"
   ]
  },
  {
   "cell_type": "code",
   "execution_count": 33,
   "id": "f51cbcee-af1e-43ed-93cc-1f1e84fa3cfe",
   "metadata": {},
   "outputs": [],
   "source": [
    "cursor.execute(\"\"\"\n",
    "CREATE TABLE IF NOT EXISTS Surgery (\n",
    "    ID VARCHAR(10) PRIMARY KEY,\n",
    "    Surgery_type_ID VARCHAR (100),\n",
    "    Diagnosis_ID VARCHAR(10),\n",
    "    FOREIGN KEY (Diagnosis_ID) REFERENCES Diagnoses(Diagnosis_ID)\n",
    ");\n",
    "\"\"\")\n"
   ]
  },
  {
   "cell_type": "code",
   "execution_count": 9,
   "id": "84325d83-011b-4521-bbd7-dd34d5971748",
   "metadata": {},
   "outputs": [],
   "source": [
    "cursor.execute(\"\"\"\n",
    "CREATE TABLE IF NOT EXISTS Surgery_Types (\n",
    "    Surgery_type_ID INT PRIMARY KEY,\n",
    "    Surgery_name VARCHAR(100)\n",
    ");\n",
    "\"\"\")"
   ]
  },
  {
   "cell_type": "code",
   "execution_count": 16,
   "id": "2c226815-bcd0-41cd-b523-8097f20c997f",
   "metadata": {},
   "outputs": [],
   "source": [
    "cursor.execute(\"\"\"\n",
    "CREATE TABLE IF NOT EXISTS Labs (\n",
    "    Lab_ID VARCHAR(200) PRIMARY KEY,\n",
    "    ER_status VARCHAR(10),\n",
    "    PR_status VARCHAR(10),\n",
    "    HER2_status VARCHAR(10),\n",
    "    Diagnosis_ID VARCHAR(10),\n",
    "    FOREIGN KEY (Diagnosis_ID) REFERENCES Diagnoses(Diagnosis_ID)\n",
    ");\n",
    "\"\"\")"
   ]
  },
  {
   "cell_type": "code",
   "execution_count": 3,
   "id": "ea36f940-cb96-45a1-9417-7f0777422820",
   "metadata": {},
   "outputs": [],
   "source": [
    "\n",
    "import csv"
   ]
  },
  {
   "cell_type": "code",
   "execution_count": 12,
   "id": "ff6f73ce-c828-4d15-9c88-d013ccd6be4c",
   "metadata": {},
   "outputs": [],
   "source": [
    "import csv\n",
    "\n",
    "with open('Patients.csv', 'r') as f:\n",
    "    csv_reader = csv.reader(f)\n",
    "    next(csv_reader)  # Skip the header row\n",
    "    for row in csv_reader:\n",
    "        cursor.execute(\"INSERT INTO Patients (Patient_ID, Age, Gender, Patient_Status) VALUES (%s, %s, %s, %s)\", row)\n",
    "\n",
    "# Commit changes\n",
    "connection.commit()\n"
   ]
  },
  {
   "cell_type": "code",
   "execution_count": 14,
   "id": "189b12ab-f9a8-423f-a236-cae7147485d8",
   "metadata": {},
   "outputs": [
    {
     "ename": "IntegrityError",
     "evalue": "1062 (23000): Duplicate entry 'D1' for key 'PRIMARY'",
     "output_type": "error",
     "traceback": [
      "\u001b[0;31m---------------------------------------------------------------------------\u001b[0m",
      "\u001b[0;31mMySQLInterfaceError\u001b[0m                       Traceback (most recent call last)",
      "File \u001b[0;32m~/.local/lib/python3.10/site-packages/mysql/connector/connection_cext.py:639\u001b[0m, in \u001b[0;36mCMySQLConnection.cmd_query\u001b[0;34m(self, query, raw, buffered, raw_as_string)\u001b[0m\n\u001b[1;32m    638\u001b[0m         query \u001b[38;5;241m=\u001b[39m query\u001b[38;5;241m.\u001b[39mencode(\u001b[38;5;124m\"\u001b[39m\u001b[38;5;124mutf-8\u001b[39m\u001b[38;5;124m\"\u001b[39m)\n\u001b[0;32m--> 639\u001b[0m     \u001b[38;5;28;43mself\u001b[39;49m\u001b[38;5;241;43m.\u001b[39;49m\u001b[43m_cmysql\u001b[49m\u001b[38;5;241;43m.\u001b[39;49m\u001b[43mquery\u001b[49m\u001b[43m(\u001b[49m\n\u001b[1;32m    640\u001b[0m \u001b[43m        \u001b[49m\u001b[43mquery\u001b[49m\u001b[43m,\u001b[49m\n\u001b[1;32m    641\u001b[0m \u001b[43m        \u001b[49m\u001b[43mraw\u001b[49m\u001b[38;5;241;43m=\u001b[39;49m\u001b[43mraw\u001b[49m\u001b[43m,\u001b[49m\n\u001b[1;32m    642\u001b[0m \u001b[43m        \u001b[49m\u001b[43mbuffered\u001b[49m\u001b[38;5;241;43m=\u001b[39;49m\u001b[43mbuffered\u001b[49m\u001b[43m,\u001b[49m\n\u001b[1;32m    643\u001b[0m \u001b[43m        \u001b[49m\u001b[43mraw_as_string\u001b[49m\u001b[38;5;241;43m=\u001b[39;49m\u001b[43mraw_as_string\u001b[49m\u001b[43m,\u001b[49m\n\u001b[1;32m    644\u001b[0m \u001b[43m        \u001b[49m\u001b[43mquery_attrs\u001b[49m\u001b[38;5;241;43m=\u001b[39;49m\u001b[38;5;28;43mself\u001b[39;49m\u001b[38;5;241;43m.\u001b[39;49m\u001b[43mquery_attrs\u001b[49m\u001b[43m,\u001b[49m\n\u001b[1;32m    645\u001b[0m \u001b[43m    \u001b[49m\u001b[43m)\u001b[49m\n\u001b[1;32m    646\u001b[0m \u001b[38;5;28;01mexcept\u001b[39;00m MySQLInterfaceError \u001b[38;5;28;01mas\u001b[39;00m err:\n",
      "\u001b[0;31mMySQLInterfaceError\u001b[0m: Duplicate entry 'D1' for key 'PRIMARY'",
      "\nThe above exception was the direct cause of the following exception:\n",
      "\u001b[0;31mIntegrityError\u001b[0m                            Traceback (most recent call last)",
      "Cell \u001b[0;32mIn [14], line 5\u001b[0m\n\u001b[1;32m      3\u001b[0m     \u001b[38;5;28mnext\u001b[39m(csv_reader)  \u001b[38;5;66;03m# Skip the header row\u001b[39;00m\n\u001b[1;32m      4\u001b[0m     \u001b[38;5;28;01mfor\u001b[39;00m row \u001b[38;5;129;01min\u001b[39;00m csv_reader:\n\u001b[0;32m----> 5\u001b[0m         \u001b[43mcursor\u001b[49m\u001b[38;5;241;43m.\u001b[39;49m\u001b[43mexecute\u001b[49m\u001b[43m(\u001b[49m\u001b[38;5;124;43m\"\"\"\u001b[39;49m\n\u001b[1;32m      6\u001b[0m \u001b[38;5;124;43m            INSERT INTO Diagnoses (Diagnosis_ID, Tumour_Stage, Histology, Patient_ID) \u001b[39;49m\n\u001b[1;32m      7\u001b[0m \u001b[38;5;124;43m            VALUES (\u001b[39;49m\u001b[38;5;132;43;01m%s\u001b[39;49;00m\u001b[38;5;124;43m, \u001b[39;49m\u001b[38;5;132;43;01m%s\u001b[39;49;00m\u001b[38;5;124;43m, \u001b[39;49m\u001b[38;5;132;43;01m%s\u001b[39;49;00m\u001b[38;5;124;43m, \u001b[39;49m\u001b[38;5;132;43;01m%s\u001b[39;49;00m\u001b[38;5;124;43m)\u001b[39;49m\n\u001b[1;32m      8\u001b[0m \u001b[38;5;124;43m        \u001b[39;49m\u001b[38;5;124;43m\"\"\"\u001b[39;49m\u001b[43m,\u001b[49m\u001b[43m \u001b[49m\u001b[43mrow\u001b[49m\u001b[43m)\u001b[49m\n\u001b[1;32m     10\u001b[0m \u001b[38;5;66;03m# Commit changes\u001b[39;00m\n\u001b[1;32m     11\u001b[0m connection\u001b[38;5;241m.\u001b[39mcommit()\n",
      "File \u001b[0;32m~/.local/lib/python3.10/site-packages/mysql/connector/cursor_cext.py:330\u001b[0m, in \u001b[0;36mCMySQLCursor.execute\u001b[0;34m(self, operation, params, multi)\u001b[0m\n\u001b[1;32m    325\u001b[0m             \u001b[38;5;28;01mraise\u001b[39;00m ProgrammingError(\n\u001b[1;32m    326\u001b[0m                 \u001b[38;5;124m\"\u001b[39m\u001b[38;5;124mNot all parameters were used in the SQL statement\u001b[39m\u001b[38;5;124m\"\u001b[39m\n\u001b[1;32m    327\u001b[0m             )\n\u001b[1;32m    329\u001b[0m \u001b[38;5;28;01mtry\u001b[39;00m:\n\u001b[0;32m--> 330\u001b[0m     result \u001b[38;5;241m=\u001b[39m \u001b[38;5;28;43mself\u001b[39;49m\u001b[38;5;241;43m.\u001b[39;49m\u001b[43m_cnx\u001b[49m\u001b[38;5;241;43m.\u001b[39;49m\u001b[43mcmd_query\u001b[49m\u001b[43m(\u001b[49m\n\u001b[1;32m    331\u001b[0m \u001b[43m        \u001b[49m\u001b[43mstmt\u001b[49m\u001b[43m,\u001b[49m\n\u001b[1;32m    332\u001b[0m \u001b[43m        \u001b[49m\u001b[43mraw\u001b[49m\u001b[38;5;241;43m=\u001b[39;49m\u001b[38;5;28;43mself\u001b[39;49m\u001b[38;5;241;43m.\u001b[39;49m\u001b[43m_raw\u001b[49m\u001b[43m,\u001b[49m\n\u001b[1;32m    333\u001b[0m \u001b[43m        \u001b[49m\u001b[43mbuffered\u001b[49m\u001b[38;5;241;43m=\u001b[39;49m\u001b[38;5;28;43mself\u001b[39;49m\u001b[38;5;241;43m.\u001b[39;49m\u001b[43m_buffered\u001b[49m\u001b[43m,\u001b[49m\n\u001b[1;32m    334\u001b[0m \u001b[43m        \u001b[49m\u001b[43mraw_as_string\u001b[49m\u001b[38;5;241;43m=\u001b[39;49m\u001b[38;5;28;43mself\u001b[39;49m\u001b[38;5;241;43m.\u001b[39;49m\u001b[43m_raw_as_string\u001b[49m\u001b[43m,\u001b[49m\n\u001b[1;32m    335\u001b[0m \u001b[43m    \u001b[49m\u001b[43m)\u001b[49m\n\u001b[1;32m    336\u001b[0m \u001b[38;5;28;01mexcept\u001b[39;00m MySQLInterfaceError \u001b[38;5;28;01mas\u001b[39;00m err:\n\u001b[1;32m    337\u001b[0m     \u001b[38;5;28;01mraise\u001b[39;00m get_mysql_exception(\n\u001b[1;32m    338\u001b[0m         msg\u001b[38;5;241m=\u001b[39merr\u001b[38;5;241m.\u001b[39mmsg, errno\u001b[38;5;241m=\u001b[39merr\u001b[38;5;241m.\u001b[39merrno, sqlstate\u001b[38;5;241m=\u001b[39merr\u001b[38;5;241m.\u001b[39msqlstate\n\u001b[1;32m    339\u001b[0m     ) \u001b[38;5;28;01mfrom\u001b[39;00m \u001b[38;5;21;01merr\u001b[39;00m\n",
      "File \u001b[0;32m~/.local/lib/python3.10/site-packages/mysql/connector/opentelemetry/context_propagation.py:77\u001b[0m, in \u001b[0;36mwith_context_propagation.<locals>.wrapper\u001b[0;34m(cnx, *args, **kwargs)\u001b[0m\n\u001b[1;32m     75\u001b[0m \u001b[38;5;124;03m\"\"\"Context propagation decorator.\"\"\"\u001b[39;00m\n\u001b[1;32m     76\u001b[0m \u001b[38;5;28;01mif\u001b[39;00m \u001b[38;5;129;01mnot\u001b[39;00m OTEL_ENABLED \u001b[38;5;129;01mor\u001b[39;00m \u001b[38;5;129;01mnot\u001b[39;00m cnx\u001b[38;5;241m.\u001b[39motel_context_propagation:\n\u001b[0;32m---> 77\u001b[0m     \u001b[38;5;28;01mreturn\u001b[39;00m \u001b[43mmethod\u001b[49m\u001b[43m(\u001b[49m\u001b[43mcnx\u001b[49m\u001b[43m,\u001b[49m\u001b[43m \u001b[49m\u001b[38;5;241;43m*\u001b[39;49m\u001b[43margs\u001b[49m\u001b[43m,\u001b[49m\u001b[43m \u001b[49m\u001b[38;5;241;43m*\u001b[39;49m\u001b[38;5;241;43m*\u001b[39;49m\u001b[43mkwargs\u001b[49m\u001b[43m)\u001b[49m\n\u001b[1;32m     79\u001b[0m current_span \u001b[38;5;241m=\u001b[39m trace\u001b[38;5;241m.\u001b[39mget_current_span()\n\u001b[1;32m     80\u001b[0m tp_header \u001b[38;5;241m=\u001b[39m \u001b[38;5;28;01mNone\u001b[39;00m\n",
      "File \u001b[0;32m~/.local/lib/python3.10/site-packages/mysql/connector/connection_cext.py:647\u001b[0m, in \u001b[0;36mCMySQLConnection.cmd_query\u001b[0;34m(self, query, raw, buffered, raw_as_string)\u001b[0m\n\u001b[1;32m    639\u001b[0m     \u001b[38;5;28mself\u001b[39m\u001b[38;5;241m.\u001b[39m_cmysql\u001b[38;5;241m.\u001b[39mquery(\n\u001b[1;32m    640\u001b[0m         query,\n\u001b[1;32m    641\u001b[0m         raw\u001b[38;5;241m=\u001b[39mraw,\n\u001b[0;32m   (...)\u001b[0m\n\u001b[1;32m    644\u001b[0m         query_attrs\u001b[38;5;241m=\u001b[39m\u001b[38;5;28mself\u001b[39m\u001b[38;5;241m.\u001b[39mquery_attrs,\n\u001b[1;32m    645\u001b[0m     )\n\u001b[1;32m    646\u001b[0m \u001b[38;5;28;01mexcept\u001b[39;00m MySQLInterfaceError \u001b[38;5;28;01mas\u001b[39;00m err:\n\u001b[0;32m--> 647\u001b[0m     \u001b[38;5;28;01mraise\u001b[39;00m get_mysql_exception(\n\u001b[1;32m    648\u001b[0m         err\u001b[38;5;241m.\u001b[39merrno, msg\u001b[38;5;241m=\u001b[39merr\u001b[38;5;241m.\u001b[39mmsg, sqlstate\u001b[38;5;241m=\u001b[39merr\u001b[38;5;241m.\u001b[39msqlstate\n\u001b[1;32m    649\u001b[0m     ) \u001b[38;5;28;01mfrom\u001b[39;00m \u001b[38;5;21;01merr\u001b[39;00m\n\u001b[1;32m    650\u001b[0m \u001b[38;5;28;01mexcept\u001b[39;00m \u001b[38;5;167;01mAttributeError\u001b[39;00m \u001b[38;5;28;01mas\u001b[39;00m err:\n\u001b[1;32m    651\u001b[0m     addr \u001b[38;5;241m=\u001b[39m (\n\u001b[1;32m    652\u001b[0m         \u001b[38;5;28mself\u001b[39m\u001b[38;5;241m.\u001b[39m_unix_socket \u001b[38;5;28;01mif\u001b[39;00m \u001b[38;5;28mself\u001b[39m\u001b[38;5;241m.\u001b[39m_unix_socket \u001b[38;5;28;01melse\u001b[39;00m \u001b[38;5;124mf\u001b[39m\u001b[38;5;124m\"\u001b[39m\u001b[38;5;132;01m{\u001b[39;00m\u001b[38;5;28mself\u001b[39m\u001b[38;5;241m.\u001b[39m_host\u001b[38;5;132;01m}\u001b[39;00m\u001b[38;5;124m:\u001b[39m\u001b[38;5;132;01m{\u001b[39;00m\u001b[38;5;28mself\u001b[39m\u001b[38;5;241m.\u001b[39m_port\u001b[38;5;132;01m}\u001b[39;00m\u001b[38;5;124m\"\u001b[39m\n\u001b[1;32m    653\u001b[0m     )\n",
      "\u001b[0;31mIntegrityError\u001b[0m: 1062 (23000): Duplicate entry 'D1' for key 'PRIMARY'"
     ]
    }
   ],
   "source": [
    "with open('Diagnoses.csv', 'r') as f:\n",
    "    csv_reader = csv.reader(f)\n",
    "    next(csv_reader)  # Skip the header row\n",
    "    for row in csv_reader:\n",
    "        cursor.execute(\"\"\"\n",
    "            INSERT INTO Diagnoses (Diagnosis_ID, Tumour_Stage, Histology, Patient_ID) \n",
    "            VALUES (%s, %s, %s, %s)\n",
    "        \"\"\", row)\n",
    "\n",
    "# Commit changes\n",
    "connection.commit()"
   ]
  },
  {
   "cell_type": "code",
   "execution_count": 4,
   "id": "65776e56-2fb1-4c51-a218-664c54354155",
   "metadata": {},
   "outputs": [],
   "source": [
    "import csv"
   ]
  },
  {
   "cell_type": "code",
   "execution_count": 17,
   "id": "44f11f24-24da-47b2-8083-ce9b9f6e0305",
   "metadata": {},
   "outputs": [],
   "source": [
    "\n",
    "\n",
    "with open('Labs.csv', 'r') as f:\n",
    "    csv_reader = csv.reader(f)\n",
    "    next(csv_reader)  # Skip the header row\n",
    "    for row in csv_reader:\n",
    "        cursor.execute(\"\"\"\n",
    "            INSERT INTO Labs (Lab_ID, ER_status, PR_status, HER2_status, Diagnosis_ID) \n",
    "            VALUES (%s, %s, %s, %s, %s)\n",
    "        \"\"\", row)\n",
    "\n",
    "# Commit changes\n",
    "connection.commit()\n"
   ]
  },
  {
   "cell_type": "code",
   "execution_count": 18,
   "id": "c142e85f-89da-490f-9d26-e20ce7afd78e",
   "metadata": {},
   "outputs": [],
   "source": [
    "\n",
    "with open('Proteins.csv', 'r') as f:\n",
    "    csv_reader = csv.reader(f)\n",
    "    next(csv_reader)  # Skip the header row\n",
    "    for row in csv_reader:\n",
    "        cursor.execute(\"\"\"\n",
    "            INSERT INTO Proteins (ProteinID, Protein1, Protein2, Protein3, Protein4, Diagnosis_ID) \n",
    "            VALUES (%s, %s, %s, %s, %s, %s)\n",
    "        \"\"\", row)\n",
    "\n",
    "# Commit changes\n",
    "connection.commit()\n"
   ]
  },
  {
   "cell_type": "code",
   "execution_count": 5,
   "id": "34adf73a-8815-47e0-b028-ed24b183b317",
   "metadata": {},
   "outputs": [],
   "source": [
    "import csv\n",
    "from datetime import datetime  "
   ]
  },
  {
   "cell_type": "code",
   "execution_count": 20,
   "id": "bfb842c6-4452-4d32-b78c-dc014c59983e",
   "metadata": {},
   "outputs": [],
   "source": [
    "# Insert data into the Visits table\n",
    "with open('Visits.csv', 'r') as f:\n",
    "    csv_reader = csv.reader(f)\n",
    "    next(csv_reader)  # Skip the header row\n",
    "    for row in csv_reader:\n",
    "        visit_id = row[0]\n",
    "        \n",
    "        # Handle missing or empty dates\n",
    "        date_of_surgery = row[1].strip()  # Remove extra spaces\n",
    "        date_of_surgery = (\n",
    "            datetime.strptime(date_of_surgery, '%d-%m-%Y').strftime('%Y-%m-%d') \n",
    "            if date_of_surgery else None\n",
    "        )\n",
    "        \n",
    "        date_of_last_visit = row[2].strip()\n",
    "        date_of_last_visit = (\n",
    "            datetime.strptime(date_of_last_visit, '%d-%m-%Y').strftime('%Y-%m-%d') \n",
    "            if date_of_last_visit else None\n",
    "        )\n",
    "        \n",
    "        patient_id = row[3]\n",
    "        \n",
    "        # Properly indented cursor.execute block\n",
    "        cursor.execute(\"\"\"\n",
    "            INSERT IGNORE INTO Visits (Visit_ID, Date_of_Surgery, Date_of_Last_Visit, Patient_ID) \n",
    "            VALUES (%s, %s, %s, %s)\n",
    "        \"\"\", (visit_id, date_of_surgery, date_of_last_visit, patient_id))\n",
    "\n",
    "# Commit changes\n",
    "connection.commit()\n"
   ]
  },
  {
   "cell_type": "code",
   "execution_count": 37,
   "id": "52b4d864-d95f-4bd8-bc21-d61a82a6ab46",
   "metadata": {},
   "outputs": [],
   "source": [
    "# Create a cursor object\n",
    "cursor = connection.cursor()\n",
    "\n",
    "# Open the CSV file and insert data\n",
    "with open('Surgery.csv', 'r') as f:\n",
    "    csv_reader = csv.reader(f)\n",
    "    next(csv_reader)  # Skip the header row\n",
    "    for row in csv_reader:\n",
    "        # Ensure correct mapping of columns\n",
    "        id_ = row[0].strip()  # ID (string, e.g., 'S1', 'S2')\n",
    "        surgery_type_id = row[1].strip()  # Surgery_type_ID (string, e.g., '1', '2')\n",
    "        diagnosis_id = row[2].strip()  # Diagnosis_ID (string, e.g., 'D1', 'D2')\n",
    "\n",
    "        # Insert the data into the table\n",
    "        cursor.execute(\"\"\"\n",
    "            INSERT INTO Surgery (ID, Surgery_type_ID, Diagnosis_ID)\n",
    "            VALUES (%s, %s, %s)\n",
    "        \"\"\", (id_, surgery_type_id, diagnosis_id))\n",
    "\n",
    "# Commit the changes\n",
    "connection.commit()"
   ]
  },
  {
   "cell_type": "code",
   "execution_count": 22,
   "id": "25fd59e6-75c3-4d25-997a-2f54e7911b2f",
   "metadata": {},
   "outputs": [],
   "source": [
    "cursor = connection.cursor()\n",
    "\n",
    "# Insert data into the Surgery_Types table\n",
    "insert_queries = [\n",
    "    \"INSERT INTO Surgery_Types (Surgery_type_ID, Surgery_name) VALUES (1, 'Modified Radical Mastectomy')\",\n",
    "    \"INSERT INTO Surgery_Types (Surgery_type_ID, Surgery_name) VALUES (2, 'Lumpectomy')\",\n",
    "    \"INSERT INTO Surgery_Types (Surgery_type_ID, Surgery_name) VALUES (3, 'Simple Mastectomy')\",\n",
    "    \"INSERT INTO Surgery_Types (Surgery_type_ID, Surgery_name) VALUES (4, 'Other')\"\n",
    "]\n",
    "\n",
    "for query in insert_queries:\n",
    "    cursor.execute(query)\n",
    "\n",
    "# Commit changes\n",
    "connection.commit()"
   ]
  },
  {
   "cell_type": "code",
   "execution_count": 6,
   "id": "d8c0ee30-970d-44f7-a932-ec30d0d5a457",
   "metadata": {},
   "outputs": [],
   "source": [
    "import pandas as pd"
   ]
  },
  {
   "cell_type": "code",
   "execution_count": 7,
   "id": "65898f07-e3cc-4f24-8b4c-84ca4e1bb7b5",
   "metadata": {},
   "outputs": [
    {
     "name": "stdout",
     "output_type": "stream",
     "text": [
      "  Tumour_Stage                       Histology  Avg_Protein1  Avg_Protein2  \\\n",
      "0           II   Infiltrating Ductal Carcinoma     -0.043145      0.941891   \n",
      "1           II  Infiltrating Lobular Carcinoma      0.051042      1.073106   \n",
      "2           II              Mucinous Carcinoma      0.114430      0.605754   \n",
      "\n",
      "   Avg_Protein3  Avg_Protein4  Total_Patients  Stage_Rank  \n",
      "0     -0.041731      0.006162             124           1  \n",
      "1     -0.154017      0.018415              56           1  \n",
      "2      0.159706      0.178998               9           1  \n"
     ]
    }
   ],
   "source": [
    "#query1 # Create a cursor object\n",
    "cursor = connection.cursor()\n",
    "\n",
    "# Write the SQL query\n",
    "query = \"\"\"\n",
    "WITH ProteinSummary AS (\n",
    "    SELECT \n",
    "        d.Tumour_Stage,\n",
    "        d.Histology,\n",
    "        AVG(pr.Protein1) AS Avg_Protein1,\n",
    "        AVG(pr.Protein2) AS Avg_Protein2,\n",
    "        AVG(pr.Protein3) AS Avg_Protein3,\n",
    "        AVG(pr.Protein4) AS Avg_Protein4,\n",
    "        COUNT(*) AS Total_Patients\n",
    "    FROM Diagnoses d\n",
    "    JOIN Proteins pr ON d.Diagnosis_ID = pr.Diagnosis_ID\n",
    "    GROUP BY d.Tumour_Stage, d.Histology\n",
    "),\n",
    "RankedTumorStages AS (\n",
    "    SELECT \n",
    "        Tumour_Stage,\n",
    "        Histology,\n",
    "        Avg_Protein1,\n",
    "        Avg_Protein2,\n",
    "        Avg_Protein3,\n",
    "        Avg_Protein4,\n",
    "        Total_Patients,\n",
    "        RANK() OVER (PARTITION BY Histology ORDER BY Total_Patients DESC) AS Stage_Rank\n",
    "    FROM ProteinSummary\n",
    ")\n",
    "SELECT \n",
    "    Tumour_Stage,\n",
    "    Histology,\n",
    "    Avg_Protein1,\n",
    "    Avg_Protein2,\n",
    "    Avg_Protein3,\n",
    "    Avg_Protein4,\n",
    "    Total_Patients,\n",
    "    Stage_Rank\n",
    "FROM RankedTumorStages\n",
    "WHERE Stage_Rank = 1\n",
    "ORDER BY Histology, Total_Patients DESC;\n",
    "\"\"\"\n",
    "\n",
    "# Execute the query and fetch the results\n",
    "cursor.execute(query)\n",
    "results = cursor.fetchall()\n",
    "\n",
    "# Get the column names\n",
    "columns = [desc[0] for desc in cursor.description]\n",
    "\n",
    "# Create a pandas DataFrame\n",
    "df = pd.DataFrame(results, columns=columns)\n",
    "\n",
    "# Display the DataFrame\n",
    "print(df)\n",
    "\n",
    "# Close the cursor and connection\n",
    "cursor.close()\n",
    "connection.close()"
   ]
  },
  {
   "cell_type": "code",
   "execution_count": null,
   "id": "a08c1ec5-31fd-4302-9547-d2baac541e2b",
   "metadata": {},
   "outputs": [],
   "source": [
    "#query2"
   ]
  },
  {
   "cell_type": "code",
   "execution_count": 15,
   "id": "27522c67-d123-41c5-93e0-173709052ccf",
   "metadata": {},
   "outputs": [
    {
     "name": "stdout",
     "output_type": "stream",
     "text": [
      "Error creating index: 1061 (42000): Duplicate key name 'idx_patient_status'\n",
      "Error creating index: 1061 (42000): Duplicate key name 'idx_diagnosis_id'\n",
      "Index created successfully: CREATE INDEX idx_tumour_stage ON Diagnoses (Tumour_Stage);\n",
      "Error creating index: 1061 (42000): Duplicate key name 'idx_protein_diagnosis_id'\n"
     ]
    }
   ],
   "source": [
    "# Create a cursor object\n",
    "cursor = connection.cursor()\n",
    "\n",
    "# Indexing SQL commands\n",
    "indexing_commands = [\n",
    "    \"CREATE INDEX idx_patient_status ON Patients (Patient_Status);\",\n",
    "    \"CREATE INDEX idx_diagnosis_id ON Diagnoses (Diagnosis_ID);\",\n",
    "    \"CREATE INDEX idx_tumour_stage ON Diagnoses (Tumour_Stage);\",\n",
    "    \"CREATE INDEX idx_protein_diagnosis_id ON Proteins (Diagnosis_ID);\"\n",
    "]\n",
    "\n",
    "# Execute each indexing command\n",
    "for command in indexing_commands:\n",
    "    try:\n",
    "        cursor.execute(command)\n",
    "        print(f\"Index created successfully: {command}\")\n",
    "    except mysql.connector.Error as err:\n",
    "        print(f\"Error creating index: {err}\")\n",
    "\n",
    "# Commit the changes\n",
    "connection.commit()\n",
    "\n",
    "# Close the cursor and connection\n",
    "cursor.close()\n",
    "connection.close()"
   ]
  },
  {
   "cell_type": "code",
   "execution_count": 20,
   "id": "b75b922e-023d-4c46-a807-365fe2d0a141",
   "metadata": {},
   "outputs": [
    {
     "name": "stdout",
     "output_type": "stream",
     "text": [
      "  Tumour_Stage Patient_Status  Avg_Protein1  Avg_Protein2  Avg_Protein3  \\\n",
      "0            I           Dead      0.009211      1.149777     -0.211212   \n",
      "1            I          Alive     -0.018808      0.973826     -0.156616   \n",
      "2           II           Dead     -0.098867      1.139979     -0.017360   \n",
      "3           II          Alive      0.015200      0.920669     -0.077501   \n",
      "4          III           Dead      0.042052      0.998399     -0.058217   \n",
      "5          III          Alive     -0.133154      0.823295     -0.097596   \n",
      "\n",
      "   Avg_Protein4  Total_Patients Percentage  \n",
      "0     -0.126490              10      15.63  \n",
      "1      0.068257              54      84.38  \n",
      "2      0.096950              38      20.11  \n",
      "3     -0.001839             151      79.89  \n",
      "4      0.254550              18      22.22  \n",
      "5     -0.113168              63      77.78  \n"
     ]
    }
   ],
   "source": [
    "cursor = connection.cursor()\n",
    "\n",
    "# SQL Query\n",
    "query = \"\"\"\n",
    "WITH ProteinSurvival AS (\n",
    "    SELECT \n",
    "        d.Tumour_Stage,\n",
    "        p.Patient_Status,\n",
    "        AVG(pr.Protein1) AS Avg_Protein1,\n",
    "        AVG(pr.Protein2) AS Avg_Protein2,\n",
    "        AVG(pr.Protein3) AS Avg_Protein3,\n",
    "        AVG(pr.Protein4) AS Avg_Protein4,\n",
    "        COUNT(*) AS Total_Patients\n",
    "    FROM Patients p\n",
    "    JOIN Diagnoses d ON p.Patient_ID = d.Patient_ID\n",
    "    JOIN Proteins pr ON d.Diagnosis_ID = pr.Diagnosis_ID\n",
    "    GROUP BY d.Tumour_Stage, p.Patient_Status\n",
    ")\n",
    "SELECT \n",
    "    Tumour_Stage,\n",
    "    Patient_Status,\n",
    "    Avg_Protein1,\n",
    "    Avg_Protein2,\n",
    "    Avg_Protein3,\n",
    "    Avg_Protein4,\n",
    "    Total_Patients,\n",
    "    ROUND((Total_Patients * 100.0) / SUM(Total_Patients) OVER (PARTITION BY Tumour_Stage), 2) AS Percentage\n",
    "FROM ProteinSurvival\n",
    "ORDER BY Tumour_Stage, Patient_Status DESC, Total_Patients DESC;\n",
    "\"\"\"\n",
    "\n",
    "# Execute the query and fetch results\n",
    "cursor.execute(query)\n",
    "results = cursor.fetchall()\n",
    "\n",
    "# Get column names\n",
    "columns = [desc[0] for desc in cursor.description]\n",
    "\n",
    "# Convert the results into a Pandas DataFrame\n",
    "df = pd.DataFrame(results, columns=columns)\n",
    "\n",
    "# Display the DataFrame\n",
    "print(df)\n",
    "\n",
    "# Save to CSV (optional)\n",
    "df.to_csv('Protein_Survival_Analysis.csv', index=False)\n",
    "\n",
    "# Close the cursor and connection\n",
    "cursor.close()\n",
    "connection.close()"
   ]
  },
  {
   "cell_type": "code",
   "execution_count": 22,
   "id": "9eff632a-92ec-472d-a589-0961bad8d1fc",
   "metadata": {},
   "outputs": [
    {
     "data": {
      "image/png": "[encoded data removed]",
      "text/plain": [
       "<Figure size 640x480 with 1 Axes>"
      ]
     },
     "metadata": {},
     "output_type": "display_data"
    }
   ],
   "source": [
    "import seaborn as sns\n",
    "import matplotlib.pyplot as plt\n",
    "\n",
    "# Bar plot for survival rates by tumor stage\n",
    "sns.barplot(x='Tumour_Stage', y='Percentage', hue='Patient_Status', data=df)\n",
    "plt.title('Survival Rates by Tumor Stage')\n",
    "plt.ylabel('Percentage (%)')\n",
    "plt.xlabel('Tumour_Stage')\n",
    "plt.show()"
   ]
  },
  {
   "cell_type": "code",
   "execution_count": 26,
   "id": "e789724e-d4fa-4349-8c21-8cf89154b274",
   "metadata": {},
   "outputs": [
    {
     "name": "stdout",
     "output_type": "stream",
     "text": [
      "  Tumour_Stage  Avg_Protein1  Avg_Protein2  Avg_Protein3  Avg_Protein4  \\\n",
      "0            I     -0.014430      1.001318     -0.165147      0.037828   \n",
      "1           II     -0.007734      0.964763     -0.065409      0.018023   \n",
      "2          III     -0.094220      0.862207     -0.088845     -0.031453   \n",
      "\n",
      "   Total_Patients  \n",
      "0              64  \n",
      "1             189  \n",
      "2              81  \n"
     ]
    }
   ],
   "source": [
    "cursor = connection.cursor()\n",
    "\n",
    "# SQL query to calculate average protein levels and patient count by tumor stage\n",
    "query = \"\"\"\n",
    "SELECT \n",
    "    d.Tumour_Stage,\n",
    "    AVG(pr.Protein1) AS Avg_Protein1,\n",
    "    AVG(pr.Protein2) AS Avg_Protein2,\n",
    "    AVG(pr.Protein3) AS Avg_Protein3,\n",
    "    AVG(pr.Protein4) AS Avg_Protein4,\n",
    "    COUNT(*) AS Total_Patients\n",
    "FROM Diagnoses d\n",
    "JOIN Proteins pr ON d.Diagnosis_ID = pr.Diagnosis_ID\n",
    "GROUP BY d.Tumour_Stage\n",
    "ORDER BY d.Tumour_Stage;\n",
    "\"\"\"\n",
    "\n",
    "# Execute the query and fetch results\n",
    "cursor.execute(query)\n",
    "results = cursor.fetchall()\n",
    "\n",
    "# Get column names\n",
    "columns = [desc[0] for desc in cursor.description]\n",
    "\n",
    "# Convert the results into a Pandas DataFrame\n",
    "df = pd.DataFrame(results, columns=columns)\n",
    "\n",
    "# Display the DataFrame\n",
    "print(df)\n",
    "\n",
    "# Save to CSV (optional)\n",
    "df.to_csv('Protein_Tumour_Stage.csv', index=False)\n",
    "\n",
    "# Close the cursor and connection\n",
    "cursor.close()\n",
    "connection.close()\n"
   ]
  },
  {
   "cell_type": "code",
   "execution_count": 28,
   "id": "6309f7b1-dd26-4251-9abb-ad6138de8150",
   "metadata": {},
   "outputs": [
    {
     "name": "stderr",
     "output_type": "stream",
     "text": [
      "/tmp/ipykernel_433421/860861756.py:5: FutureWarning: \n",
      "\n",
      "Passing `palette` without assigning `hue` is deprecated and will be removed in v0.14.0. Assign the `x` variable to `hue` and set `legend=False` for the same effect.\n",
      "\n",
      "  sns.barplot(x='Tumour_Stage', y='Total_Patients', data=df, palette='viridis')\n"
     ]
    },
    {
     "data": {
      "image/png": "[encoded data removed]",
      "text/plain": [
       "<Figure size 640x480 with 1 Axes>"
      ]
     },
     "metadata": {},
     "output_type": "display_data"
    }
   ],
   "source": [
    "import matplotlib.pyplot as plt\n",
    "import seaborn as sns\n",
    "\n",
    "# Bar plot: Total Patients by Tumour Stage\n",
    "sns.barplot(x='Tumour_Stage', y='Total_Patients', data=df, palette='viridis')\n",
    "plt.title('Total Patients by Tumour Stage')\n",
    "plt.xlabel('Tumour Stage')\n",
    "plt.ylabel('Total Patients')\n",
    "plt.show()"
   ]
  },
  {
   "cell_type": "code",
   "execution_count": 29,
   "id": "64786a4f-d4ba-4e29-8230-a4971caf22ef",
   "metadata": {},
   "outputs": [
    {
     "data": {
      "image/png": "[encoded data removed]",
      "text/plain": [
       "<Figure size 1000x600 with 2 Axes>"
      ]
     },
     "metadata": {},
     "output_type": "display_data"
    }
   ],
   "source": [
    "# Prepare the data for a heatmap\n",
    "protein_df = df[['Tumour_Stage', 'Avg_Protein1', 'Avg_Protein2', 'Avg_Protein3', 'Avg_Protein4']]\n",
    "protein_df.set_index('Tumour_Stage', inplace=True)\n",
    "\n",
    "# Heatmap: Average Protein Levels by Tumour Stage\n",
    "plt.figure(figsize=(10, 6))\n",
    "sns.heatmap(protein_df, annot=True, cmap='coolwarm', cbar_kws={'label': 'Protein Expression Levels'})\n",
    "plt.title('Average Protein Levels by Tumour Stage')\n",
    "plt.xlabel('Proteins')\n",
    "plt.ylabel('Tumour Stage')\n",
    "plt.show()"
   ]
  },
  {
   "cell_type": "code",
   "execution_count": 32,
   "id": "4c798d35-7484-45e8-961f-482af65255d8",
   "metadata": {},
   "outputs": [
    {
     "name": "stdout",
     "output_type": "stream",
     "text": [
      "  Tumour_Stage  Total_Survived  Total_Deceased Survival_Rate  Avg_Protein1  \\\n",
      "0            I               0               0          0.00     -0.014430   \n",
      "1           II               0               0          0.00     -0.007734   \n",
      "2          III               0               0          0.00     -0.094220   \n",
      "\n",
      "   Avg_Protein2  Avg_Protein3  Avg_Protein4  \n",
      "0      1.001318     -0.165147      0.037828  \n",
      "1      0.964763     -0.065409      0.018023  \n",
      "2      0.862207     -0.088845     -0.031453  \n"
     ]
    }
   ],
   "source": [
    "cursor = connection.cursor()\n",
    "\n",
    "# SQL query to calculate survival rates and protein averages by tumor stage\n",
    "query = \"\"\"\n",
    "SELECT \n",
    "    d.Tumour_Stage,\n",
    "    COUNT(CASE WHEN p.Patient_Status = 'Survived' THEN 1 END) AS Total_Survived,\n",
    "    COUNT(CASE WHEN p.Patient_Status = 'Deceased' THEN 1 END) AS Total_Deceased,\n",
    "    ROUND(100.0 * COUNT(CASE WHEN p.Patient_Status = 'Survived' THEN 1 END) / COUNT(*), 2) AS Survival_Rate,\n",
    "    AVG(pr.Protein1) AS Avg_Protein1,\n",
    "    AVG(pr.Protein2) AS Avg_Protein2,\n",
    "    AVG(pr.Protein3) AS Avg_Protein3,\n",
    "    AVG(pr.Protein4) AS Avg_Protein4\n",
    "FROM Diagnoses d\n",
    "JOIN Patients p ON d.Patient_ID = p.Patient_ID\n",
    "JOIN Proteins pr ON d.Diagnosis_ID = pr.Diagnosis_ID\n",
    "GROUP BY d.Tumour_Stage\n",
    "ORDER BY d.Tumour_Stage;\n",
    "\"\"\"\n",
    "\n",
    "# Execute the query and fetch results\n",
    "cursor.execute(query)\n",
    "results = cursor.fetchall()\n",
    "\n",
    "# Get column names\n",
    "columns = [desc[0] for desc in cursor.description]\n",
    "\n",
    "# Convert the results into a Pandas DataFrame\n",
    "df = pd.DataFrame(results, columns=columns)\n",
    "\n",
    "# Display the DataFrame\n",
    "print(df)\n",
    "\n",
    "# Save to CSV (optional)\n",
    "df.to_csv('Survival_Analysis_By_Tumor_Stage.csv', index=False)\n",
    "\n",
    "# Close the cursor and connection\n",
    "cursor.close()\n",
    "connection.close()"
   ]
  },
  {
   "cell_type": "code",
   "execution_count": null,
   "id": "98f0d7d8-6c0d-4ccd-b354-6b38bc8bc4be",
   "metadata": {},
   "outputs": [],
   "source": []
  }
 ],
 "metadata": {
  "kernelspec": {
   "display_name": "Python 3 (ipykernel)",
   "language": "python",
   "name": "python3"
  },
  "language_info": {
   "codemirror_mode": {
    "name": "ipython",
    "version": 3
   },
   "file_extension": ".py",
   "mimetype": "text/x-python",
   "name": "python",
   "nbconvert_exporter": "python",
   "pygments_lexer": "ipython3",
   "version": "3.10.12"
  }
 },
 "nbformat": 4,
 "nbformat_minor": 5
}
